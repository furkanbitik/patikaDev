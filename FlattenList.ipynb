{
 "cells": [
  {
   "cell_type": "markdown",
   "id": "e825894f",
   "metadata": {},
   "source": [
    "Bir listeyi düzleştiren (flatten) fonksiyon yazın. Elemanları birden çok katmanlı listelerden ([[3],2] gibi) oluşabileceği gibi, non-scalar verilerden de oluşabilir. Örnek olarak:\n",
    "\n",
    "input: [[1,'a',['cat'],2],[[[3]],'dog'],4,5]\n",
    "\n",
    "output: [1,'a','cat',2,3,'dog',4,5]"
   ]
  },
  {
   "cell_type": "code",
   "execution_count": 4,
   "id": "edb91fdd",
   "metadata": {},
   "outputs": [],
   "source": [
    "def flattenList(l):\n",
    "    result = []\n",
    "    for i in l:\n",
    "        if type(i) == list:\n",
    "            result.extend(flattenList(i))\n",
    "        else:\n",
    "            result.append(i)\n",
    "    return result"
   ]
  },
  {
   "cell_type": "code",
   "execution_count": 5,
   "id": "2662c43f",
   "metadata": {},
   "outputs": [
    {
     "name": "stdout",
     "output_type": "stream",
     "text": [
      "['mandalina', 'portakal', 'armut', 'muz', 'çilek', 'karpuz', 'kavun']\n"
     ]
    }
   ],
   "source": [
    "l = [\"mandalina\",\"portakal\",[\"armut\",\"muz\"],\"çilek\",[\"karpuz\",\"kavun\"]]\n",
    "print(flattenList(l))"
   ]
  }
 ],
 "metadata": {
  "kernelspec": {
   "display_name": "Python 3 (ipykernel)",
   "language": "python",
   "name": "python3"
  },
  "language_info": {
   "codemirror_mode": {
    "name": "ipython",
    "version": 3
   },
   "file_extension": ".py",
   "mimetype": "text/x-python",
   "name": "python",
   "nbconvert_exporter": "python",
   "pygments_lexer": "ipython3",
   "version": "3.9.13"
  }
 },
 "nbformat": 4,
 "nbformat_minor": 5
}
