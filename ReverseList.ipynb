{
 "cells": [
  {
   "cell_type": "markdown",
   "id": "710c57a6",
   "metadata": {},
   "source": [
    "Verilen listenin içindeki elemanları tersine döndüren bir fonksiyon yazın. Eğer listenin içindeki elemanlar da liste içeriyorsa onların elemanlarını da tersine döndürün. Örnek olarak:\n",
    "\n",
    "input: [[1, 2], [3, 4], [5, 6, 7]]\n",
    "\n",
    "output: [[[7, 6, 5], [4, 3], [2, 1]]"
   ]
  },
  {
   "cell_type": "code",
   "execution_count": 1,
   "id": "a3507e72",
   "metadata": {},
   "outputs": [
    {
     "name": "stdout",
     "output_type": "stream",
     "text": [
      "[11, 10] 9 8 7 [6, 5, 4] 3 2 1 "
     ]
    }
   ],
   "source": [
    "def reverseList(l):\n",
    "    l.reverse()\n",
    "    for i in l:\n",
    "        if type(i) == list:\n",
    "            i.reverse()\n",
    "        print(i, end=\" \")\n",
    "\n",
    "l = [1,2,3,[4,5,6],7,8,9,[10,11]]\n",
    "reverseList(l)"
   ]
  },
  {
   "cell_type": "code",
   "execution_count": null,
   "id": "8ff6b692",
   "metadata": {},
   "outputs": [],
   "source": []
  }
 ],
 "metadata": {
  "kernelspec": {
   "display_name": "Python 3 (ipykernel)",
   "language": "python",
   "name": "python3"
  },
  "language_info": {
   "codemirror_mode": {
    "name": "ipython",
    "version": 3
   },
   "file_extension": ".py",
   "mimetype": "text/x-python",
   "name": "python",
   "nbconvert_exporter": "python",
   "pygments_lexer": "ipython3",
   "version": "3.9.13"
  }
 },
 "nbformat": 4,
 "nbformat_minor": 5
}
